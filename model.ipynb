{
 "cells": [
  {
   "cell_type": "markdown",
   "id": "8de3bfaf-0137-4f61-8931-fcbf4c888ba7",
   "metadata": {},
   "source": [
    "# 1. Project Overview\n",
    "This project aims to classify songs into genres using their lyrical content. By leveraging transformer-based models like BERT and RoBERTa, we intend to capture the contextual relationships within lyrics. The goal is to accurately predict genres such as Pop, Rock, Hip-Hop, Jazz, and others based on song lyrics. The results will enhance music recommendation systems, improve search algorithms, and provide insights into lyrical patterns across genres.\n",
    "\n",
    "# 2. Dataset\n",
    "The provided datasets include CSV files with labeled genres: Jazz, Electronic, Country, Hip-Hop, Rock, and Pop.\n",
    "Each dataset contains columns like Genre, Title, Artist, and Lyrics.\n",
    "Preprocessing steps will include:\n",
    "Tokenizing lyrics into words or tokens.\n",
    "Removing stop-words and non-contributive terms.\n",
    "Applying lemmatization or stemming.\n",
    "Cleaning text (e.g., removing special characters, punctuation, and converting text to lowercase).\n",
    "# 3. Methodology\n",
    "## a. Preprocessing\n",
    "Clean datasets to ensure consistent formatting.\n",
    "Merge all CSV files into a single dataset for unified processing.\n",
    "Handle missing lyrics by excluding those rows from training.\n",
    "Tokenize and create embeddings using pre-trained models like Word2Vec or GloVe.\n",
    "## b. Modeling\n",
    "Primary Models: BERT, RoBERTa for capturing deep contextual relationships.\n",
    "Baseline Models:\n",
    "TF-IDF combined with classifiers like SVM, Naive Bayes.\n",
    "CNN and LSTM for sequential data classification.\n",
    "Use transfer learning by fine-tuning BERT or RoBERTa on the dataset.\n",
    "## c. Evaluation\n",
    "Metrics: Accuracy, Precision, Recall, F1-Score, and ROC-AUC.\n",
    "Confusion matrices to analyze genre overlaps and misclassifications.\n",
    "Cross-validation (5-fold) to ensure generalization.\n",
    "## d. Ablation Study\n",
    "Analyze the impact of preprocessing techniques on model performance.\n",
    "Compare transformer-based models with traditional baselines to highlight their benefits.\n",
    "# 4. Tools and Libraries\n",
    "Python Libraries: TensorFlow, PyTorch, Hugging Face, nltk, scikit-learn, pandas, matplotlib.\n",
    "Data Processing: NLTK, SpaCy.\n",
    "Visualization: Matplotlib, Seaborn.\n",
    "# 5. Deliverables\n",
    "Code and Dataset: Well-structured code with clear comments and instructions.\n",
    "Final Report:\n",
    "Key observations on preprocessing, modeling, and evaluation.\n",
    "Detailed discussion on model performance and insights.\n",
    "Future improvements and research directions.\n",
    "Presentation: Recorded 10-minute video summarizing the project’s approach and results.\n",
    "# 6. Timeline\n",
    "Week 9: Preprocess datasets, clean text, and perform EDA (Exploratory Data Analysis).\n",
    "Week 10: Train baseline models (SVM, CNN, LSTM) and start implementing BERT/RoBERTa.\n",
    "Week 11: Fine-tune models, evaluate performance, and compare results.\n",
    "Week 12: Conduct ablation studies, finalize results, and generate visualizations.\n",
    "Week 13: Prepare the final report and presentation.\n",
    "# 7. Responsibilities\n",
    "As a solo project, all tasks, including data preprocessing, model implementation, evaluation, and report preparation, will be managed independently.\n",
    "\n",
    "If you'd like, I can also help generate code or reports for specific tasks, such as preprocessing, model training, or visualization. Let me know!"
   ]
  },
  {
   "cell_type": "code",
   "execution_count": null,
   "id": "bdf6dc50-5d2f-48a9-bb58-82bca6b3b5a8",
   "metadata": {},
   "outputs": [],
   "source": []
  },
  {
   "cell_type": "code",
   "execution_count": 1,
   "id": "89d7eb7e-721f-4e51-b9e7-94082272cbd3",
   "metadata": {},
   "outputs": [],
   "source": [
    "from sklearn.feature_extraction.text import TfidfVectorizer\n",
    "from sklearn.model_selection import train_test_split\n",
    "from sklearn.linear_model import LogisticRegression\n",
    "from sklearn.svm import SVC\n",
    "from sklearn.naive_bayes import MultinomialNB\n",
    "from sklearn.metrics import classification_report, confusion_matrix, accuracy_score\n"
   ]
  },
  {
   "cell_type": "code",
   "execution_count": 2,
   "id": "7505d869-1a0e-41b9-bdae-48b9a6c2bccd",
   "metadata": {},
   "outputs": [
    {
     "name": "stdout",
     "output_type": "stream",
     "text": [
      "  Genre                                        Title               Artist  \\\n",
      "0  Jazz  It's Beginning to Look a Lot like Christmas        Michael Bublé   \n",
      "1  Jazz                        Holly Jolly Christmas        Michael Bublé   \n",
      "2  Jazz               Christmas Time Is Here - Vocal  Vince Guaraldi Trio   \n",
      "3  Jazz                        Holly Jolly Christmas        Michael Bublé   \n",
      "4  Jazz                Santa Claus Is Coming to Town        Michael Bublé   \n",
      "\n",
      "                                              Lyrics  \n",
      "0  [Verse 1]\\nIt's beginning to look a lot like C...  \n",
      "1  Have a holly, jolly Christmas\\nIt's the best t...  \n",
      "2  \"Jingle Bells\" - Duke Ellington\\n\"When There's...  \n",
      "3  Have a holly, jolly Christmas\\nIt's the best t...  \n",
      "4  You better watch out\\nYou better not cry\\nYou ...  \n",
      "Dataset shape: (5470, 4)\n"
     ]
    }
   ],
   "source": [
    "import pandas as pd\n",
    "\n",
    "# Load the cleaned lyrics dataset\n",
    "cleaned_lyrics_data = pd.read_csv(\"cleaned_lyrics_dataset.csv\")\n",
    "\n",
    "# Check the first few rows to ensure it loaded correctly\n",
    "print(cleaned_lyrics_data.head())\n",
    "\n",
    "# Print the shape of the dataset to verify\n",
    "print(f\"Dataset shape: {cleaned_lyrics_data.shape}\")\n"
   ]
  },
  {
   "cell_type": "markdown",
   "id": "5210d753-324d-4c96-a810-7d384a6647ab",
   "metadata": {},
   "source": [
    "# Prepare the Data"
   ]
  },
  {
   "cell_type": "code",
   "execution_count": 4,
   "id": "9278f44b-a66b-498c-8cda-03caf52fb7b9",
   "metadata": {},
   "outputs": [],
   "source": [
    "# Extract features (lyrics) and labels (genres)\n",
    "X = cleaned_lyrics_data['Lyrics']\n",
    "y = cleaned_lyrics_data['Genre']\n",
    "\n",
    "# Split the data into training and testing sets\n",
    "X_train, X_test, y_train, y_test = train_test_split(X, y, test_size=0.2, random_state=42, stratify=y)\n"
   ]
  },
  {
   "cell_type": "markdown",
   "id": "55396533-9815-42af-86f9-471f48140f92",
   "metadata": {},
   "source": [
    "# Transform Lyrics Using TF-IDF"
   ]
  },
  {
   "cell_type": "code",
   "execution_count": 5,
   "id": "3fd64f70-0cd4-475a-b7fd-1e8a9fc38465",
   "metadata": {},
   "outputs": [],
   "source": [
    "# Initialize TF-IDF vectorizer\n",
    "tfidf = TfidfVectorizer(max_features=5000)  # Limit to top 5000 features for simplicity\n",
    "\n",
    "# Fit and transform the training data; transform the testing data\n",
    "X_train_tfidf = tfidf.fit_transform(X_train)\n",
    "X_test_tfidf = tfidf.transform(X_test)\n"
   ]
  },
  {
   "cell_type": "markdown",
   "id": "5f0d0d70-28bf-4a58-bc35-1d4fbf68c7e6",
   "metadata": {},
   "source": [
    "# Train and Evaluate Baseline Models"
   ]
  },
  {
   "cell_type": "code",
   "execution_count": 6,
   "id": "79005d52-cec6-47c4-8e78-9426f927bb75",
   "metadata": {},
   "outputs": [
    {
     "name": "stdout",
     "output_type": "stream",
     "text": [
      "Training Logistic Regression...\n",
      "Results for Logistic Regression:\n",
      "Accuracy: 0.5155\n",
      "Classification Report:\n",
      "              precision    recall  f1-score   support\n",
      "\n",
      "     Country       0.62      0.68      0.65       195\n",
      "  Electronic       0.44      0.57      0.50       218\n",
      "     Hip-Hop       0.64      0.56      0.59       162\n",
      "        Jazz       0.55      0.21      0.30       114\n",
      "         Pop       0.47      0.67      0.55       258\n",
      "        Rock       0.45      0.14      0.21       147\n",
      "\n",
      "    accuracy                           0.52      1094\n",
      "   macro avg       0.53      0.47      0.47      1094\n",
      "weighted avg       0.52      0.52      0.49      1094\n",
      "\n",
      "Confusion Matrix:\n",
      "[[132  30   4   3  18   8]\n",
      " [ 18 124  16   6  48   6]\n",
      " [ 14  16  90   2  40   0]\n",
      " [  8  47   8  24  25   2]\n",
      " [ 15  31  21   9 174   8]\n",
      " [ 25  32   2   0  68  20]]\n",
      "--------------------------------------------------\n",
      "Training SVM...\n",
      "Results for SVM:\n",
      "Accuracy: 0.5037\n",
      "Classification Report:\n",
      "              precision    recall  f1-score   support\n",
      "\n",
      "     Country       0.66      0.64      0.65       195\n",
      "  Electronic       0.47      0.63      0.54       218\n",
      "     Hip-Hop       0.61      0.54      0.57       162\n",
      "        Jazz       0.52      0.19      0.28       114\n",
      "         Pop       0.43      0.63      0.51       258\n",
      "        Rock       0.34      0.11      0.16       147\n",
      "\n",
      "    accuracy                           0.50      1094\n",
      "   macro avg       0.50      0.46      0.45      1094\n",
      "weighted avg       0.50      0.50      0.48      1094\n",
      "\n",
      "Confusion Matrix:\n",
      "[[125  29   5   3  22  11]\n",
      " [ 11 138  12   8  45   4]\n",
      " [ 10  14  88   2  47   1]\n",
      " [  9  48   8  22  23   4]\n",
      " [ 15  32  31   7 162  11]\n",
      " [ 20  35   1   0  75  16]]\n",
      "--------------------------------------------------\n",
      "Training Naive Bayes...\n",
      "Results for Naive Bayes:\n",
      "Accuracy: 0.4232\n",
      "Classification Report:\n",
      "              precision    recall  f1-score   support\n",
      "\n",
      "     Country       0.54      0.75      0.63       195\n",
      "  Electronic       0.49      0.26      0.34       218\n",
      "     Hip-Hop       0.56      0.33      0.41       162\n",
      "        Jazz       0.38      0.03      0.05       114\n",
      "         Pop       0.34      0.79      0.47       258\n",
      "        Rock       1.00      0.01      0.01       147\n",
      "\n",
      "    accuracy                           0.42      1094\n",
      "   macro avg       0.55      0.36      0.32      1094\n",
      "weighted avg       0.53      0.42      0.36      1094\n",
      "\n",
      "Confusion Matrix:\n",
      "[[147   6   3   1  38   0]\n",
      " [ 31  56  11   2 118   0]\n",
      " [ 10  10  53   1  88   0]\n",
      " [ 24  26   4   3  57   0]\n",
      " [ 27   4  23   1 203   0]\n",
      " [ 34  13   0   0  99   1]]\n",
      "--------------------------------------------------\n"
     ]
    }
   ],
   "source": [
    "# Initialize models\n",
    "models = {\n",
    "    \"Logistic Regression\": LogisticRegression(),\n",
    "    \"SVM\": SVC(),\n",
    "    \"Naive Bayes\": MultinomialNB()\n",
    "}\n",
    "\n",
    "# Train and evaluate each model\n",
    "for model_name, model in models.items():\n",
    "    print(f\"Training {model_name}...\")\n",
    "    model.fit(X_train_tfidf, y_train)  # Train the model\n",
    "    y_pred = model.predict(X_test_tfidf)  # Predict on test data\n",
    "    \n",
    "    # Print evaluation metrics\n",
    "    print(f\"Results for {model_name}:\")\n",
    "    print(f\"Accuracy: {accuracy_score(y_test, y_pred):.4f}\")\n",
    "    print(\"Classification Report:\")\n",
    "    print(classification_report(y_test, y_pred))\n",
    "    print(\"Confusion Matrix:\")\n",
    "    print(confusion_matrix(y_test, y_pred))\n",
    "    print(\"-\" * 50)\n"
   ]
  },
  {
   "cell_type": "markdown",
   "id": "4e42653d-1095-49e2-9934-90b1e3d7f108",
   "metadata": {},
   "source": [
    "Analysis of Results\n",
    "1. Logistic Regression\n",
    "Accuracy: ~51.55%\n",
    "Best Classified Genres:\n",
    "Country: Precision 0.62, Recall 0.68\n",
    "Pop: Precision 0.47, Recall 0.67\n",
    "Issues:\n",
    "Jazz and Rock are misclassified often, with low Recall (Jazz: 0.21, Rock: 0.14).\n",
    "2. SVM\n",
    "Accuracy: ~50.37%\n",
    "Best Classified Genres:\n",
    "Country: Precision 0.66, Recall 0.64\n",
    "Electronic: Precision 0.47, Recall 0.63\n",
    "Issues:\n",
    "Similar to Logistic Regression, Jazz and Rock are challenging to classify.\n",
    "3. Naive Bayes\n",
    "Accuracy: ~42.32%\n",
    "Best Classified Genres:\n",
    "Country: Precision 0.54, Recall 0.75\n",
    "Pop: Precision 0.34, Recall 0.79\n",
    "Issues:\n",
    "Extremely poor performance for Jazz and Rock (F1-scores ~0.05 and ~0.01).\n",
    "\n",
    "Insights\n",
    "Class Imbalance: Genres like Jazz and Rock have fewer samples compared to Pop or Country. This imbalance likely impacts their classification.\n",
    "Naive Bayes: Performs poorly, possibly due to its assumption of feature independence, which doesn't hold well for text data like lyrics.\n",
    "TF-IDF Limitations: While TF-IDF captures word importance, it doesn't account for word order or context, which are crucial for understanding lyrics.\n"
   ]
  },
  {
   "cell_type": "markdown",
   "id": "90495b86-a0e1-4d7a-bdda-edcb0cd5eacd",
   "metadata": {},
   "source": [
    "# Step 3: Addressing Class Imbalance\n",
    "Objective\n",
    "To improve model performance, especially for underrepresented genres like Jazz and Rock, by balancing the dataset."
   ]
  },
  {
   "cell_type": "code",
   "execution_count": null,
   "id": "7bc8fd2d-138a-47e2-a950-5f784e24f733",
   "metadata": {},
   "outputs": [],
   "source": [
    "Approach\n",
    "1. Analyze Class Distribution: Confirm the extent of imbalance.\n",
    "2. Apply Resampling Techniques:\n",
    "Oversampling minority classes (e.g., using SMOTE).\n",
    "Undersampling majority classes.\n",
    "Class Weights in model training.\n",
    "3. Evaluate Impact: Retrain baseline models to observe improvements."
   ]
  },
  {
   "cell_type": "markdown",
   "id": "0c1ef0e0-d555-419f-a9cf-f670a82fc187",
   "metadata": {},
   "source": [
    "## 1. Analyze Class Distribution"
   ]
  },
  {
   "cell_type": "code",
   "execution_count": 8,
   "id": "4452c75d-5ece-418c-a6e5-e49d2662121c",
   "metadata": {},
   "outputs": [
    {
     "name": "stdout",
     "output_type": "stream",
     "text": [
      "Genre Distribution Before Resampling:\n",
      "Genre\n",
      "Pop           1290\n",
      "Electronic    1088\n",
      "Country        978\n",
      "Hip-Hop        808\n",
      "Rock           734\n",
      "Jazz           572\n",
      "Name: count, dtype: int64\n"
     ]
    },
    {
     "data": {
      "image/png": "[encoded data removed]",
      "text/plain": [
       "<Figure size 640x480 with 1 Axes>"
      ]
     },
     "metadata": {},
     "output_type": "display_data"
    }
   ],
   "source": [
    "# Plotting genre distribution\n",
    "import matplotlib.pyplot as plt\n",
    "\n",
    "genre_counts = cleaned_lyrics_data['Genre'].value_counts()\n",
    "print(\"Genre Distribution Before Resampling:\")\n",
    "print(genre_counts)\n",
    "\n",
    "# Plot\n",
    "genre_counts.plot(kind='bar')\n",
    "plt.title('Number of Songs per Genre')\n",
    "plt.xlabel('Genre')\n",
    "plt.ylabel('Count')\n",
    "plt.show()\n"
   ]
  },
  {
   "cell_type": "markdown",
   "id": "c84fce14-14fd-484b-83e0-432769c5b0a9",
   "metadata": {},
   "source": [
    "# 2. Apply Resampling Techniques\n",
    "We'll use Synthetic Minority Over-sampling Technique (SMOTE) to oversample minority classes.\n",
    "\n",
    "Install imbalanced-learn Library"
   ]
  },
  {
   "cell_type": "code",
   "execution_count": 9,
   "id": "937a9bc2-9526-4433-bab6-58f7f231d493",
   "metadata": {},
   "outputs": [
    {
     "name": "stdout",
     "output_type": "stream",
     "text": [
      "Requirement already satisfied: imbalanced-learn in /opt/anaconda3/lib/python3.12/site-packages (0.12.3)\n",
      "Requirement already satisfied: numpy>=1.17.3 in /opt/anaconda3/lib/python3.12/site-packages (from imbalanced-learn) (1.26.4)\n",
      "Requirement already satisfied: scipy>=1.5.0 in /opt/anaconda3/lib/python3.12/site-packages (from imbalanced-learn) (1.13.1)\n",
      "Requirement already satisfied: scikit-learn>=1.0.2 in /opt/anaconda3/lib/python3.12/site-packages (from imbalanced-learn) (1.5.1)\n",
      "Requirement already satisfied: joblib>=1.1.1 in /opt/anaconda3/lib/python3.12/site-packages (from imbalanced-learn) (1.4.2)\n",
      "Requirement already satisfied: threadpoolctl>=2.0.0 in /opt/anaconda3/lib/python3.12/site-packages (from imbalanced-learn) (3.5.0)\n",
      "Note: you may need to restart the kernel to use updated packages.\n"
     ]
    }
   ],
   "source": [
    "pip install imbalanced-learn\n"
   ]
  },
  {
   "cell_type": "code",
   "execution_count": 10,
   "id": "3bb84e22-b5ba-4a77-bac6-40d2b0f24369",
   "metadata": {},
   "outputs": [
    {
     "name": "stdout",
     "output_type": "stream",
     "text": [
      "Genre Distribution After SMOTE:\n",
      "Counter({3: 1290, 1: 1290, 0: 1290, 2: 1290, 5: 1290, 4: 1290})\n"
     ]
    }
   ],
   "source": [
    "from imblearn.over_sampling import SMOTE\n",
    "from sklearn.preprocessing import LabelEncoder\n",
    "\n",
    "# Encode genres as numerical labels\n",
    "le = LabelEncoder()\n",
    "y_encoded = le.fit_transform(y)\n",
    "\n",
    "# Apply TF-IDF vectorization again\n",
    "X_tfidf = tfidf.fit_transform(X)\n",
    "\n",
    "# Apply SMOTE\n",
    "smote = SMOTE(random_state=42)\n",
    "X_resampled, y_resampled = smote.fit_resample(X_tfidf, y_encoded)\n",
    "\n",
    "# Verify new class distribution\n",
    "from collections import Counter\n",
    "print(\"Genre Distribution After SMOTE:\")\n",
    "print(Counter(y_resampled))\n"
   ]
  },
  {
   "cell_type": "markdown",
   "id": "182772dd-e75f-4d9e-a68d-89f403b25586",
   "metadata": {},
   "source": [
    "Label Encoding: Convert genre labels to integers for SMOTE.\n",
    "Resampling: SMOTE synthesizes new examples for minority classes."
   ]
  },
  {
   "cell_type": "markdown",
   "id": "6f7b3056-b4c0-433d-af46-939a4d38ec4e",
   "metadata": {},
   "source": [
    "# 3. Retrain Baseline Models on Resampled Data\n",
    "Split Resampled Data"
   ]
  },
  {
   "cell_type": "code",
   "execution_count": 12,
   "id": "b6f8619e-7743-4e8c-8ded-5adec01a7d65",
   "metadata": {},
   "outputs": [],
   "source": [
    "# Split the resampled data\n",
    "X_train_res, X_test_res, y_train_res, y_test_res = train_test_split(\n",
    "    X_resampled, y_resampled, test_size=0.2, random_state=42, stratify=y_resampled)\n"
   ]
  },
  {
   "cell_type": "markdown",
   "id": "bb2cfa08-096e-4104-aa83-2bd07dd35349",
   "metadata": {},
   "source": [
    "Train and Evaluate Models\n",
    "Repeat the training and evaluation code from earlier, but use the resampled data."
   ]
  },
  {
   "cell_type": "code",
   "execution_count": 13,
   "id": "3579d11e-9ce2-4e20-8ec7-8d3c5dd3fca2",
   "metadata": {},
   "outputs": [
    {
     "name": "stdout",
     "output_type": "stream",
     "text": [
      "Training Logistic Regression on Resampled Data...\n",
      "Results for Logistic Regression:\n",
      "Accuracy: 0.6344\n",
      "Classification Report:\n",
      "              precision    recall  f1-score   support\n",
      "\n",
      "     Country       0.69      0.77      0.73       258\n",
      "  Electronic       0.59      0.51      0.55       258\n",
      "     Hip-Hop       0.67      0.78      0.72       258\n",
      "        Jazz       0.67      0.73      0.70       258\n",
      "         Pop       0.52      0.44      0.48       258\n",
      "        Rock       0.62      0.58      0.60       258\n",
      "\n",
      "    accuracy                           0.63      1548\n",
      "   macro avg       0.63      0.63      0.63      1548\n",
      "weighted avg       0.63      0.63      0.63      1548\n",
      "\n",
      "Confusion Matrix:\n",
      "[[198  13   7  17   9  14]\n",
      " [  8 132  20  43  33  22]\n",
      " [  7  14 201   8  25   3]\n",
      " [ 10  21  13 189  12  13]\n",
      " [ 25  22  48  11 113  39]\n",
      " [ 40  20  10  14  25 149]]\n",
      "--------------------------------------------------\n",
      "Training SVM on Resampled Data...\n",
      "Results for SVM:\n",
      "Accuracy: 0.6899\n",
      "Classification Report:\n",
      "              precision    recall  f1-score   support\n",
      "\n",
      "     Country       0.75      0.81      0.77       258\n",
      "  Electronic       0.59      0.67      0.63       258\n",
      "     Hip-Hop       0.74      0.77      0.75       258\n",
      "        Jazz       0.82      0.74      0.78       258\n",
      "         Pop       0.52      0.56      0.54       258\n",
      "        Rock       0.77      0.60      0.67       258\n",
      "\n",
      "    accuracy                           0.69      1548\n",
      "   macro avg       0.70      0.69      0.69      1548\n",
      "weighted avg       0.70      0.69      0.69      1548\n",
      "\n",
      "Confusion Matrix:\n",
      "[[208  20   6   4  10  10]\n",
      " [  4 174  10  24  38   8]\n",
      " [  7  13 198   2  35   3]\n",
      " [  8  36   7 190  11   6]\n",
      " [ 17  29  40   9 144  19]\n",
      " [ 35  22   6   3  38 154]]\n",
      "--------------------------------------------------\n",
      "Training Naive Bayes on Resampled Data...\n",
      "Results for Naive Bayes:\n",
      "Accuracy: 0.5168\n",
      "Classification Report:\n",
      "              precision    recall  f1-score   support\n",
      "\n",
      "     Country       0.50      0.86      0.63       258\n",
      "  Electronic       0.62      0.11      0.18       258\n",
      "     Hip-Hop       0.61      0.71      0.65       258\n",
      "        Jazz       0.61      0.54      0.57       258\n",
      "         Pop       0.54      0.29      0.38       258\n",
      "        Rock       0.40      0.59      0.47       258\n",
      "\n",
      "    accuracy                           0.52      1548\n",
      "   macro avg       0.54      0.52      0.48      1548\n",
      "weighted avg       0.54      0.52      0.48      1548\n",
      "\n",
      "Confusion Matrix:\n",
      "[[222   0   7  12   1  16]\n",
      " [ 48  28  31  51  20  80]\n",
      " [ 21   1 183   4  30  19]\n",
      " [ 31  11  22 139   5  50]\n",
      " [ 56   3  45  11  76  67]\n",
      " [ 69   2  13  12  10 152]]\n",
      "--------------------------------------------------\n"
     ]
    }
   ],
   "source": [
    "# Initialize models\n",
    "models_resampled = {\n",
    "    \"Logistic Regression\": LogisticRegression(),\n",
    "    \"SVM\": SVC(),\n",
    "    \"Naive Bayes\": MultinomialNB()\n",
    "}\n",
    "\n",
    "# Train and evaluate each model\n",
    "for model_name, model in models_resampled.items():\n",
    "    print(f\"Training {model_name} on Resampled Data...\")\n",
    "    model.fit(X_train_res, y_train_res)\n",
    "    y_pred_res = model.predict(X_test_res)\n",
    "    \n",
    "    # Convert numerical labels back to genres\n",
    "    y_test_labels = le.inverse_transform(y_test_res)\n",
    "    y_pred_labels = le.inverse_transform(y_pred_res)\n",
    "    \n",
    "    # Print evaluation metrics\n",
    "    print(f\"Results for {model_name}:\")\n",
    "    print(f\"Accuracy: {accuracy_score(y_test_labels, y_pred_labels):.4f}\")\n",
    "    print(\"Classification Report:\")\n",
    "    print(classification_report(y_test_labels, y_pred_labels))\n",
    "    print(\"Confusion Matrix:\")\n",
    "    print(confusion_matrix(y_test_labels, y_pred_labels))\n",
    "    print(\"-\" * 50)\n"
   ]
  },
  {
   "cell_type": "markdown",
   "id": "3b6cb8cb-22df-40b5-aedd-4ee5dd3c84ec",
   "metadata": {},
   "source": [
    "Analysis\n",
    "Compare Metrics: See if recall and precision for minority classes improved.\n",
    "Document Findings: Note any significant changes."
   ]
  },
  {
   "cell_type": "markdown",
   "id": "9def0127-8587-406c-adce-de608a909c71",
   "metadata": {},
   "source": [
    "# Step 4: Implementing Advanced Models\n",
    "Objective\n",
    "To build more sophisticated models that can capture the contextual and sequential nature of song lyrics."
   ]
  },
  {
   "cell_type": "markdown",
   "id": "f37ac7ec-d575-45f4-a0fc-41f60bb66e8f",
   "metadata": {},
   "source": [
    "Options\n",
    "1. Recurrent Neural Networks (RNNs): Use LSTM models.\n",
    "2. Convolutional Neural Networks (CNNs): Apply 1D CNNs for text classification.\n",
    "3. Transformer-Based Models: Fine-tune pre-trained models like BERT.\n",
    "Given your project proposal focuses on transformer-based models, we'll prioritize that.\n",
    "\n",
    "Implementing BERT for Genre Classification\n",
    "1. Install Required Libraries"
   ]
  },
  {
   "cell_type": "code",
   "execution_count": 16,
   "id": "6e7a3ed7-2941-4e16-8ca7-64dc07a0e839",
   "metadata": {},
   "outputs": [
    {
     "name": "stdout",
     "output_type": "stream",
     "text": [
      "Collecting transformers\n",
      "  Downloading transformers-4.46.3-py3-none-any.whl.metadata (44 kB)\n",
      "Requirement already satisfied: filelock in /opt/anaconda3/lib/python3.12/site-packages (from transformers) (3.13.1)\n",
      "Collecting huggingface-hub<1.0,>=0.23.2 (from transformers)\n",
      "  Downloading huggingface_hub-0.26.3-py3-none-any.whl.metadata (13 kB)\n",
      "Requirement already satisfied: numpy>=1.17 in /opt/anaconda3/lib/python3.12/site-packages (from transformers) (1.26.4)\n",
      "Requirement already satisfied: packaging>=20.0 in /opt/anaconda3/lib/python3.12/site-packages (from transformers) (24.1)\n",
      "Requirement already satisfied: pyyaml>=5.1 in /opt/anaconda3/lib/python3.12/site-packages (from transformers) (6.0.1)\n",
      "Requirement already satisfied: regex!=2019.12.17 in /opt/anaconda3/lib/python3.12/site-packages (from transformers) (2024.9.11)\n",
      "Requirement already satisfied: requests in /opt/anaconda3/lib/python3.12/site-packages (from transformers) (2.32.3)\n",
      "Collecting tokenizers<0.21,>=0.20 (from transformers)\n",
      "  Downloading tokenizers-0.20.3-cp312-cp312-macosx_11_0_arm64.whl.metadata (6.7 kB)\n",
      "Collecting safetensors>=0.4.1 (from transformers)\n",
      "  Downloading safetensors-0.4.5-cp312-cp312-macosx_11_0_arm64.whl.metadata (3.8 kB)\n",
      "Requirement already satisfied: tqdm>=4.27 in /opt/anaconda3/lib/python3.12/site-packages (from transformers) (4.66.5)\n",
      "Requirement already satisfied: fsspec>=2023.5.0 in /opt/anaconda3/lib/python3.12/site-packages (from huggingface-hub<1.0,>=0.23.2->transformers) (2024.6.1)\n",
      "Requirement already satisfied: typing-extensions>=3.7.4.3 in /opt/anaconda3/lib/python3.12/site-packages (from huggingface-hub<1.0,>=0.23.2->transformers) (4.11.0)\n",
      "Requirement already satisfied: charset-normalizer<4,>=2 in /opt/anaconda3/lib/python3.12/site-packages (from requests->transformers) (3.3.2)\n",
      "Requirement already satisfied: idna<4,>=2.5 in /opt/anaconda3/lib/python3.12/site-packages (from requests->transformers) (3.7)\n",
      "Requirement already satisfied: urllib3<3,>=1.21.1 in /opt/anaconda3/lib/python3.12/site-packages (from requests->transformers) (2.2.3)\n",
      "Requirement already satisfied: certifi>=2017.4.17 in /opt/anaconda3/lib/python3.12/site-packages (from requests->transformers) (2024.8.30)\n",
      "Downloading transformers-4.46.3-py3-none-any.whl (10.0 MB)\n",
      "\u001b[2K   \u001b[90m━━━━━━━━━━━━━━━━━━━━━━━━━━━━━━━━━━━━━━━━\u001b[0m \u001b[32m10.0/10.0 MB\u001b[0m \u001b[31m42.9 MB/s\u001b[0m eta \u001b[36m0:00:00\u001b[0m \u001b[36m0:00:01\u001b[0m\n",
      "\u001b[?25hDownloading huggingface_hub-0.26.3-py3-none-any.whl (447 kB)\n",
      "Downloading safetensors-0.4.5-cp312-cp312-macosx_11_0_arm64.whl (381 kB)\n",
      "Downloading tokenizers-0.20.3-cp312-cp312-macosx_11_0_arm64.whl (2.6 MB)\n",
      "\u001b[2K   \u001b[90m━━━━━━━━━━━━━━━━━━━━━━━━━━━━━━━━━━━━━━━━\u001b[0m \u001b[32m2.6/2.6 MB\u001b[0m \u001b[31m58.2 MB/s\u001b[0m eta \u001b[36m0:00:00\u001b[0m\n",
      "\u001b[?25hInstalling collected packages: safetensors, huggingface-hub, tokenizers, transformers\n",
      "Successfully installed huggingface-hub-0.26.3 safetensors-0.4.5 tokenizers-0.20.3 transformers-4.46.3\n",
      "Note: you may need to restart the kernel to use updated packages.\n"
     ]
    }
   ],
   "source": [
    "pip install transformers"
   ]
  },
  {
   "cell_type": "code",
   "execution_count": 17,
   "id": "3b77c35e-76bc-4ac6-9f46-c9055a974074",
   "metadata": {},
   "outputs": [
    {
     "name": "stdout",
     "output_type": "stream",
     "text": [
      "Collecting torch\n",
      "  Using cached torch-2.5.1-cp312-none-macosx_11_0_arm64.whl.metadata (28 kB)\n",
      "Requirement already satisfied: filelock in /opt/anaconda3/lib/python3.12/site-packages (from torch) (3.13.1)\n",
      "Requirement already satisfied: typing-extensions>=4.8.0 in /opt/anaconda3/lib/python3.12/site-packages (from torch) (4.11.0)\n",
      "Requirement already satisfied: networkx in /opt/anaconda3/lib/python3.12/site-packages (from torch) (3.3)\n",
      "Requirement already satisfied: jinja2 in /opt/anaconda3/lib/python3.12/site-packages (from torch) (3.1.4)\n",
      "Requirement already satisfied: fsspec in /opt/anaconda3/lib/python3.12/site-packages (from torch) (2024.6.1)\n",
      "Requirement already satisfied: setuptools in /opt/anaconda3/lib/python3.12/site-packages (from torch) (75.1.0)\n",
      "Collecting sympy==1.13.1 (from torch)\n",
      "  Using cached sympy-1.13.1-py3-none-any.whl.metadata (12 kB)\n",
      "Requirement already satisfied: mpmath<1.4,>=1.1.0 in /opt/anaconda3/lib/python3.12/site-packages (from sympy==1.13.1->torch) (1.3.0)\n",
      "Requirement already satisfied: MarkupSafe>=2.0 in /opt/anaconda3/lib/python3.12/site-packages (from jinja2->torch) (2.1.3)\n",
      "Using cached torch-2.5.1-cp312-none-macosx_11_0_arm64.whl (63.9 MB)\n",
      "Using cached sympy-1.13.1-py3-none-any.whl (6.2 MB)\n",
      "Installing collected packages: sympy, torch\n",
      "  Attempting uninstall: sympy\n",
      "    Found existing installation: sympy 1.13.2\n",
      "    Uninstalling sympy-1.13.2:\n",
      "      Successfully uninstalled sympy-1.13.2\n",
      "Successfully installed sympy-1.13.1 torch-2.5.1\n",
      "Note: you may need to restart the kernel to use updated packages.\n"
     ]
    }
   ],
   "source": [
    "pip install torch"
   ]
  },
  {
   "cell_type": "code",
   "execution_count": 18,
   "id": "75d46076-15c7-4583-a7f1-20dedee218ae",
   "metadata": {},
   "outputs": [],
   "source": [
    "import torch\n",
    "from torch.utils.data import Dataset, DataLoader\n",
    "from transformers import BertTokenizer, BertForSequenceClassification, AdamW\n",
    "from sklearn.preprocessing import LabelEncoder\n"
   ]
  },
  {
   "cell_type": "markdown",
   "id": "e105621a-f0d0-47b2-af50-9235826e82a9",
   "metadata": {},
   "source": [
    "## 3. Prepare Data\n",
    "Tokenization and Encoding"
   ]
  },
  {
   "cell_type": "code",
   "execution_count": 19,
   "id": "2ff90650-bc49-42a7-8ce7-b6ba091474ba",
   "metadata": {},
   "outputs": [
    {
     "data": {
      "application/vnd.jupyter.widget-view+json": {
       "model_id": "bafc682f438a4d6193dcbc5723bc92c2",
       "version_major": 2,
       "version_minor": 0
      },
      "text/plain": [
       "tokenizer_config.json:   0%|          | 0.00/48.0 [00:00<?, ?B/s]"
      ]
     },
     "metadata": {},
     "output_type": "display_data"
    },
    {
     "data": {
      "application/vnd.jupyter.widget-view+json": {
       "model_id": "c4b4482834314364b8f2cc7cab0adcb7",
       "version_major": 2,
       "version_minor": 0
      },
      "text/plain": [
       "vocab.txt:   0%|          | 0.00/232k [00:00<?, ?B/s]"
      ]
     },
     "metadata": {},
     "output_type": "display_data"
    },
    {
     "data": {
      "application/vnd.jupyter.widget-view+json": {
       "model_id": "f3ab34c748bc4d5a81b3ddb35a9d5e02",
       "version_major": 2,
       "version_minor": 0
      },
      "text/plain": [
       "tokenizer.json:   0%|          | 0.00/466k [00:00<?, ?B/s]"
      ]
     },
     "metadata": {},
     "output_type": "display_data"
    },
    {
     "data": {
      "application/vnd.jupyter.widget-view+json": {
       "model_id": "c22f1dae304f460d8d7036b3869f6b56",
       "version_major": 2,
       "version_minor": 0
      },
      "text/plain": [
       "config.json:   0%|          | 0.00/570 [00:00<?, ?B/s]"
      ]
     },
     "metadata": {},
     "output_type": "display_data"
    }
   ],
   "source": [
    "# Use GPU if available\n",
    "device = torch.device('cuda' if torch.cuda.is_available() else 'cpu')\n",
    "\n",
    "# Initialize BERT tokenizer\n",
    "tokenizer = BertTokenizer.from_pretrained('bert-base-uncased')\n",
    "\n",
    "# Encode labels\n",
    "le = LabelEncoder()\n",
    "y_encoded = le.fit_transform(y)\n",
    "\n",
    "# Maximum length for padding/truncating\n",
    "MAX_LEN = 512\n"
   ]
  },
  {
   "cell_type": "markdown",
   "id": "e6714273-2c63-4e6d-bb92-7ccf7df1b8c0",
   "metadata": {},
   "source": [
    "Create Custom Dataset"
   ]
  },
  {
   "cell_type": "code",
   "execution_count": 20,
   "id": "0e48a3db-8a45-4b1e-94bd-3a1e4f054129",
   "metadata": {},
   "outputs": [],
   "source": [
    "class LyricsDataset(Dataset):\n",
    "    def __init__(self, texts, labels, tokenizer, max_len):\n",
    "        self.texts = texts\n",
    "        self.labels = labels\n",
    "        self.tokenizer = tokenizer\n",
    "        self.max_len = max_len\n",
    "        \n",
    "    def __len__(self):\n",
    "        return len(self.texts)\n",
    "    \n",
    "    def __getitem__(self, idx):\n",
    "        text = str(self.texts.iloc[idx])\n",
    "        label = self.labels[idx]\n",
    "        encoding = self.tokenizer.encode_plus(\n",
    "            text,\n",
    "            add_special_tokens=True,\n",
    "            max_length=self.max_len,\n",
    "            return_token_type_ids=False,\n",
    "            padding='max_length',\n",
    "            truncation=True,\n",
    "            return_attention_mask=True,\n",
    "            return_tensors='pt',\n",
    "        )\n",
    "        return {\n",
    "            'text': text,\n",
    "            'input_ids': encoding['input_ids'].flatten(),\n",
    "            'attention_mask': encoding['attention_mask'].flatten(),\n",
    "            'labels': torch.tensor(label, dtype=torch.long)\n",
    "        }\n"
   ]
  },
  {
   "cell_type": "markdown",
   "id": "f348723d-43c0-4a2f-b0ee-7eb68a73d99b",
   "metadata": {},
   "source": [
    "Create Data Loaders"
   ]
  },
  {
   "cell_type": "code",
   "execution_count": 22,
   "id": "f32760f1-251b-4690-852f-c9106ba13f1d",
   "metadata": {},
   "outputs": [],
   "source": [
    "from sklearn.model_selection import train_test_split\n",
    "\n",
    "# Split data\n",
    "X_train, X_val, y_train, y_val = train_test_split(\n",
    "    cleaned_lyrics_data['Lyrics'], y_encoded, test_size=0.1, random_state=42, stratify=y_encoded)\n",
    "\n",
    "# Create datasets\n",
    "train_dataset = LyricsDataset(X_train, y_train, tokenizer, MAX_LEN)\n",
    "val_dataset = LyricsDataset(X_val, y_val, tokenizer, MAX_LEN)\n",
    "\n",
    "# Create data loaders\n",
    "BATCH_SIZE = 8\n",
    "\n",
    "train_loader = DataLoader(train_dataset, batch_size=BATCH_SIZE, shuffle=True)\n",
    "val_loader = DataLoader(val_dataset, batch_size=BATCH_SIZE)\n"
   ]
  },
  {
   "cell_type": "markdown",
   "id": "866b6146-473a-430c-a3ae-d6b3d8ed4de5",
   "metadata": {},
   "source": [
    "## 4. Initialize BERT Model"
   ]
  },
  {
   "cell_type": "code",
   "execution_count": 23,
   "id": "85b980db-1105-4fd5-a972-c06c0dca697e",
   "metadata": {},
   "outputs": [
    {
     "data": {
      "application/vnd.jupyter.widget-view+json": {
       "model_id": "1fa09fe6e61a47b2a421f808198361ea",
       "version_major": 2,
       "version_minor": 0
      },
      "text/plain": [
       "model.safetensors:   0%|          | 0.00/440M [00:00<?, ?B/s]"
      ]
     },
     "metadata": {},
     "output_type": "display_data"
    },
    {
     "name": "stderr",
     "output_type": "stream",
     "text": [
      "Some weights of BertForSequenceClassification were not initialized from the model checkpoint at bert-base-uncased and are newly initialized: ['classifier.bias', 'classifier.weight']\n",
      "You should probably TRAIN this model on a down-stream task to be able to use it for predictions and inference.\n"
     ]
    }
   ],
   "source": [
    "model = BertForSequenceClassification.from_pretrained(\n",
    "    'bert-base-uncased',\n",
    "    num_labels=len(le.classes_),\n",
    "    output_attentions=False,\n",
    "    output_hidden_states=False\n",
    ")\n",
    "\n",
    "model = model.to(device)\n"
   ]
  },
  {
   "cell_type": "markdown",
   "id": "35389128-ca2e-45a0-8dce-e71833b19037",
   "metadata": {},
   "source": [
    "## 5. Set Up Optimizer and Scheduler"
   ]
  },
  {
   "cell_type": "code",
   "execution_count": 24,
   "id": "f011b407-f6c5-4111-acef-00ee83e9bd09",
   "metadata": {},
   "outputs": [
    {
     "name": "stderr",
     "output_type": "stream",
     "text": [
      "/opt/anaconda3/lib/python3.12/site-packages/transformers/optimization.py:591: FutureWarning: This implementation of AdamW is deprecated and will be removed in a future version. Use the PyTorch implementation torch.optim.AdamW instead, or set `no_deprecation_warning=True` to disable this warning\n",
      "  warnings.warn(\n"
     ]
    }
   ],
   "source": [
    "optimizer = AdamW(model.parameters(), lr=2e-5, correct_bias=False)\n"
   ]
  },
  {
   "cell_type": "markdown",
   "id": "2046cf6a-97c2-4fd7-9169-4ee784dcc4bb",
   "metadata": {},
   "source": [
    "## 6. Training Loop"
   ]
  },
  {
   "cell_type": "code",
   "execution_count": 25,
   "id": "a63bd41c-7672-4492-8ceb-82e60f12aa88",
   "metadata": {},
   "outputs": [
    {
     "name": "stdout",
     "output_type": "stream",
     "text": [
      "Epoch 1/3\n"
     ]
    },
    {
     "name": "stderr",
     "output_type": "stream",
     "text": [
      "100%|█████████████████████████████████████████| 616/616 [53:02<00:00,  5.17s/it]\n"
     ]
    },
    {
     "name": "stdout",
     "output_type": "stream",
     "text": [
      "Training loss: 1.7752039687974113\n",
      "Epoch 2/3\n"
     ]
    },
    {
     "name": "stderr",
     "output_type": "stream",
     "text": [
      "100%|█████████████████████████████████████████| 616/616 [52:33<00:00,  5.12s/it]\n"
     ]
    },
    {
     "name": "stdout",
     "output_type": "stream",
     "text": [
      "Training loss: 1.774516771753113\n",
      "Epoch 3/3\n"
     ]
    },
    {
     "name": "stderr",
     "output_type": "stream",
     "text": [
      "100%|█████████████████████████████████████████| 616/616 [52:15<00:00,  5.09s/it]"
     ]
    },
    {
     "name": "stdout",
     "output_type": "stream",
     "text": [
      "Training loss: 1.7728955348977795\n"
     ]
    },
    {
     "name": "stderr",
     "output_type": "stream",
     "text": [
      "\n"
     ]
    }
   ],
   "source": [
    "from tqdm import tqdm\n",
    "\n",
    "EPOCHS = 3\n",
    "\n",
    "for epoch in range(EPOCHS):\n",
    "    print(f'Epoch {epoch + 1}/{EPOCHS}')\n",
    "    model.train()\n",
    "    total_loss = 0\n",
    "    for batch in tqdm(train_loader):\n",
    "        optimizer.zero_grad()\n",
    "        \n",
    "        input_ids = batch['input_ids'].to(device)\n",
    "        attention_mask = batch['attention_mask'].to(device)\n",
    "        labels = batch['labels'].to(device)\n",
    "        \n",
    "        outputs = model(\n",
    "            input_ids=input_ids,\n",
    "            attention_mask=attention_mask,\n",
    "            labels=labels\n",
    "        )\n",
    "        \n",
    "        loss = outputs.loss\n",
    "        total_loss += loss.item()\n",
    "        loss.backward()\n",
    "        optimizer.step()\n",
    "        \n",
    "    avg_train_loss = total_loss / len(train_loader)\n",
    "    print(f'Training loss: {avg_train_loss}')\n",
    "    \n",
    "    # Validation loop can be added here\n"
   ]
  },
  {
   "cell_type": "markdown",
   "id": "699d8f18-4997-407d-9f53-018e9a427663",
   "metadata": {},
   "source": [
    "# 7. Evaluation\n",
    "Implement a validation loop to evaluate the model after each epoch."
   ]
  },
  {
   "cell_type": "code",
   "execution_count": 26,
   "id": "2e604492-4e7b-4657-ba53-e43eb005b97a",
   "metadata": {},
   "outputs": [
    {
     "name": "stdout",
     "output_type": "stream",
     "text": [
      "BERT Model Evaluation:\n",
      "Accuracy: 0.2377\n",
      "Classification Report:\n",
      "              precision    recall  f1-score   support\n",
      "\n",
      "     Country       0.00      0.00      0.00        98\n",
      "  Electronic       1.00      0.01      0.02       109\n",
      "     Hip-Hop       0.00      0.00      0.00        81\n",
      "        Jazz       0.00      0.00      0.00        57\n",
      "         Pop       0.24      1.00      0.38       129\n",
      "        Rock       0.00      0.00      0.00        73\n",
      "\n",
      "    accuracy                           0.24       547\n",
      "   macro avg       0.21      0.17      0.07       547\n",
      "weighted avg       0.25      0.24      0.09       547\n",
      "\n"
     ]
    },
    {
     "name": "stderr",
     "output_type": "stream",
     "text": [
      "/opt/anaconda3/lib/python3.12/site-packages/sklearn/metrics/_classification.py:1531: UndefinedMetricWarning: Precision is ill-defined and being set to 0.0 in labels with no predicted samples. Use `zero_division` parameter to control this behavior.\n",
      "  _warn_prf(average, modifier, f\"{metric.capitalize()} is\", len(result))\n",
      "/opt/anaconda3/lib/python3.12/site-packages/sklearn/metrics/_classification.py:1531: UndefinedMetricWarning: Precision is ill-defined and being set to 0.0 in labels with no predicted samples. Use `zero_division` parameter to control this behavior.\n",
      "  _warn_prf(average, modifier, f\"{metric.capitalize()} is\", len(result))\n",
      "/opt/anaconda3/lib/python3.12/site-packages/sklearn/metrics/_classification.py:1531: UndefinedMetricWarning: Precision is ill-defined and being set to 0.0 in labels with no predicted samples. Use `zero_division` parameter to control this behavior.\n",
      "  _warn_prf(average, modifier, f\"{metric.capitalize()} is\", len(result))\n"
     ]
    }
   ],
   "source": [
    "from sklearn.metrics import classification_report, accuracy_score\n",
    "\n",
    "model.eval()\n",
    "\n",
    "predictions = []\n",
    "true_labels = []\n",
    "\n",
    "with torch.no_grad():\n",
    "    for batch in val_loader:\n",
    "        input_ids = batch['input_ids'].to(device)\n",
    "        attention_mask = batch['attention_mask'].to(device)\n",
    "        labels = batch['labels'].to(device)\n",
    "        \n",
    "        outputs = model(\n",
    "            input_ids=input_ids,\n",
    "            attention_mask=attention_mask\n",
    "        )\n",
    "        \n",
    "        logits = outputs.logits\n",
    "        preds = torch.argmax(logits, dim=1).flatten()\n",
    "        \n",
    "        predictions.extend(preds.cpu().numpy())\n",
    "        true_labels.extend(labels.cpu().numpy())\n",
    "\n",
    "# Convert labels back to genres\n",
    "pred_genres = le.inverse_transform(predictions)\n",
    "true_genres = le.inverse_transform(true_labels)\n",
    "\n",
    "# Print evaluation metrics\n",
    "print(\"BERT Model Evaluation:\")\n",
    "print(f\"Accuracy: {accuracy_score(true_genres, pred_genres):.4f}\")\n",
    "print(\"Classification Report:\")\n",
    "print(classification_report(true_genres, pred_genres))\n"
   ]
  },
  {
   "cell_type": "markdown",
   "id": "f13364fe-1b3f-4e81-8ead-590394fa91e5",
   "metadata": {},
   "source": [
    "Notes\n",
    "GPU Usage: Training BERT can be resource-intensive. If you don't have a GPU, consider using Google Colab.\n",
    "Hyperparameters: Adjust EPOCHS, BATCH_SIZE, and MAX_LEN based on your dataset and computational resources.\n",
    "Validation: Implement early stopping or learning rate schedulers for better performance.\n"
   ]
  },
  {
   "cell_type": "markdown",
   "id": "fa4bae18-9512-4a85-a170-4a61f16d732b",
   "metadata": {},
   "source": [
    "Alternative Models\n",
    "If time permits, you can implement LSTM or CNN models for comparison.\n",
    "\n",
    "Step 5: Evaluate and Compare Models\n",
    "Objective\n",
    "To compare the performance of baseline models and advanced models, analyzing strengths and weaknesses.\n",
    "\n"
   ]
  },
  {
   "cell_type": "markdown",
   "id": "071c5b79-26ff-4036-8a10-bbdcfc5e9f16",
   "metadata": {},
   "source": [
    "Approach\n",
    "1. Collect Metrics: Accuracy, precision, recall, F1-score for all models.\n",
    "2. Visualization: Plot metrics for comparison.\n",
    "3. Confusion Matrices: Analyze misclassifications.\n",
    "4. Document Findings: Prepare detailed analysis for your report."
   ]
  },
  {
   "cell_type": "markdown",
   "id": "e017373a-ec9d-44b0-9718-d2297fd30ded",
   "metadata": {},
   "source": [
    "# Code for Comparing Models\n",
    "Collect Metrics in a DataFrame"
   ]
  },
  {
   "cell_type": "code",
   "execution_count": null,
   "id": "dec1aeff-0a66-497e-a464-715f6b0c187e",
   "metadata": {},
   "outputs": [],
   "source": [
    "import pandas as pd\n",
    "\n",
    "# Example structure\n",
    "results = {\n",
    "    'Model': ['Logistic Regression', 'SVM', 'Naive Bayes', 'BERT'],\n",
    "    'Accuracy': [0.5155, 0.5037, 0.4232, bert_accuracy],\n",
    "    'Precision': [log_reg_precision, svm_precision, nb_precision, bert_precision],\n",
    "    'Recall': [log_reg_recall, svm_recall, nb_recall, bert_recall],\n",
    "    'F1-Score': [log_reg_f1, svm_f1, nb_f1, bert_f1]\n",
    "}\n",
    "\n",
    "results_df = pd.DataFrame(results)\n",
    "print(results_df)\n"
   ]
  },
  {
   "cell_type": "markdown",
   "id": "907e1be1-28cd-4a66-8e69-7c0782afc482",
   "metadata": {},
   "source": [
    "Visualization"
   ]
  },
  {
   "cell_type": "code",
   "execution_count": null,
   "id": "a684ec88-9b48-48b0-9008-a1c7f0b83ca0",
   "metadata": {},
   "outputs": [],
   "source": [
    "import seaborn as sns\n",
    "\n",
    "# Plot accuracy comparison\n",
    "sns.barplot(x='Model', y='Accuracy', data=results_df)\n",
    "plt.title('Model Accuracy Comparison')\n",
    "plt.show()\n"
   ]
  },
  {
   "cell_type": "markdown",
   "id": "1c43992e-b552-4fad-b6f2-bcc7d6a04d36",
   "metadata": {},
   "source": [
    "Step 6: Documenting and Preparing the Report\n",
    "Structure of the Report\n",
    "Introduction\n",
    "Overview of the project.\n",
    "Importance of genre classification using lyrics.\n",
    "Dataset and Preprocessing\n",
    "Describe the dataset.\n",
    "Explain preprocessing steps and challenges.\n",
    "Baseline Models\n",
    "Methodology.\n",
    "Results and analysis.\n",
    "Advanced Models\n",
    "Implementation details.\n",
    "Hyperparameter settings.\n",
    "Results and analysis.\n",
    "Comparison and Discussion\n",
    "Compare all models.\n",
    "Discuss strengths and weaknesses.\n",
    "Conclusion\n",
    "Summarize findings.\n",
    "Potential future work.\n",
    "References\n",
    "Cite all sources and libraries used.\n",
    "Preparation for Presentation\n",
    "Slides Outline:\n",
    "Introduction and objectives.\n",
    "Methodology (brief).\n",
    "Key results and visualizations.\n",
    "Conclusion and future work.\n",
    "Tips:\n",
    "Keep slides concise.\n",
    "Use visuals to enhance understanding.\n",
    "Practice timing to fit within 10 minutes.\n",
    "Final Notes\n",
    "Code Quality: Ensure your code is well-commented and organized.\n",
    "Instructions: Provide clear instructions on how to run your code.\n",
    "Dataset Sharing: Since datasets can be large, provide a link if necessary.\n",
    "Project Alignment: Your project aligns well with the requirements, focusing on implementing an NLP task using public datasets and incorporating multiple models."
   ]
  },
  {
   "cell_type": "code",
   "execution_count": null,
   "id": "e078e2c0-0f41-4ab2-af1f-c12af4b9bc1f",
   "metadata": {},
   "outputs": [],
   "source": []
  },
  {
   "cell_type": "code",
   "execution_count": null,
   "id": "2e3746d8-b1b1-46a5-b2ac-47230d71f95d",
   "metadata": {},
   "outputs": [],
   "source": []
  },
  {
   "cell_type": "code",
   "execution_count": null,
   "id": "1b8c98cf-602f-4553-9e5f-be7375a50d74",
   "metadata": {},
   "outputs": [],
   "source": []
  },
  {
   "cell_type": "code",
   "execution_count": null,
   "id": "bf144bff-03e8-4c1d-8de7-bc0879a13c3b",
   "metadata": {},
   "outputs": [],
   "source": []
  },
  {
   "cell_type": "code",
   "execution_count": null,
   "id": "a1a472d4-4149-432a-b234-76402847590c",
   "metadata": {},
   "outputs": [],
   "source": []
  },
  {
   "cell_type": "code",
   "execution_count": null,
   "id": "f44fd5d8-0a41-4654-bb95-3a9c551ab74a",
   "metadata": {},
   "outputs": [],
   "source": []
  },
  {
   "cell_type": "code",
   "execution_count": null,
   "id": "13aa76f9-2533-4dcf-a16b-778e3910c5f4",
   "metadata": {},
   "outputs": [],
   "source": []
  },
  {
   "cell_type": "code",
   "execution_count": null,
   "id": "a392a63b-d581-405a-998a-52667c2d03f3",
   "metadata": {},
   "outputs": [],
   "source": []
  },
  {
   "cell_type": "code",
   "execution_count": null,
   "id": "52263a13-6bcb-4471-a892-6b2298ba216b",
   "metadata": {},
   "outputs": [],
   "source": []
  }
 ],
 "metadata": {
  "kernelspec": {
   "display_name": "Python 3 (ipykernel)",
   "language": "python",
   "name": "python3"
  },
  "language_info": {
   "codemirror_mode": {
    "name": "ipython",
    "version": 3
   },
   "file_extension": ".py",
   "mimetype": "text/x-python",
   "name": "python",
   "nbconvert_exporter": "python",
   "pygments_lexer": "ipython3",
   "version": "3.12.7"
  }
 },
 "nbformat": 4,
 "nbformat_minor": 5
}
